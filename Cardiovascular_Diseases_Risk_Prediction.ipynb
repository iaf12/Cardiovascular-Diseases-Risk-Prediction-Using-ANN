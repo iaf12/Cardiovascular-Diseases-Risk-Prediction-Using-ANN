{
  "cells": [
    {
      "cell_type": "markdown",
      "metadata": {
        "id": "xN1fiwFCSOc6"
      },
      "source": [
        "https://www.kaggle.com/datasets/alphiree/cardiovascular-diseases-risk-prediction-dataset"
      ]
    },
    {
      "cell_type": "markdown",
      "source": [
        "## Installing the Dependencies"
      ],
      "metadata": {
        "id": "pgxQ4Lo846Lr"
      }
    },
    {
      "cell_type": "code",
      "execution_count": null,
      "metadata": {
        "id": "0TcK6YZy7PEI"
      },
      "outputs": [],
      "source": [
        "import numpy as np\n",
        "import pandas as pd\n",
        "import seaborn as sns\n",
        "import matplotlib.pyplot as plt\n",
        "from sklearn import preprocessing\n",
        "from sklearn.svm import SVC\n",
        "from sklearn.metrics import accuracy_score\n",
        "from sklearn.metrics import classification_report\n",
        "from tensorflow import keras\n",
        "from keras import layers, callbacks\n",
        "from keras.models import Sequential\n",
        "from keras.layers import Dense, Dropout"
      ]
    },
    {
      "cell_type": "markdown",
      "metadata": {
        "id": "KssHIILrSOWJ"
      },
      "source": [
        "## Load The Dataset"
      ]
    },
    {
      "cell_type": "code",
      "execution_count": null,
      "metadata": {
        "colab": {
          "base_uri": "https://localhost:8080/",
          "height": 444
        },
        "id": "qWJD3Rwg7jZl",
        "outputId": "c8c93631-31e2-4f3c-a687-dfaed59844c3"
      },
      "outputs": [
        {
          "output_type": "execute_result",
          "data": {
            "text/plain": [
              "  General_Health                  Checkup Exercise Heart_Disease Skin_Cancer  \\\n",
              "0           Poor  Within the past 2 years       No            No          No   \n",
              "1      Very Good     Within the past year       No           Yes          No   \n",
              "2      Very Good     Within the past year      Yes            No          No   \n",
              "3           Poor     Within the past year      Yes           Yes          No   \n",
              "4           Good     Within the past year       No            No          No   \n",
              "\n",
              "  Other_Cancer Depression Diabetes Arthritis     Sex Age_Category  \\\n",
              "0           No         No       No       Yes  Female        70-74   \n",
              "1           No         No      Yes        No  Female        70-74   \n",
              "2           No         No      Yes        No  Female        60-64   \n",
              "3           No         No      Yes        No    Male        75-79   \n",
              "4           No         No       No        No    Male          80+   \n",
              "\n",
              "   Height_(cm)  Weight_(kg)    BMI Smoking_History  Alcohol_Consumption  \\\n",
              "0        150.0        32.66  14.54             Yes                  0.0   \n",
              "1        165.0        77.11  28.29              No                  0.0   \n",
              "2        163.0        88.45  33.47              No                  4.0   \n",
              "3        180.0        93.44  28.73              No                  0.0   \n",
              "4        191.0        88.45  24.37             Yes                  0.0   \n",
              "\n",
              "   Fruit_Consumption  Green_Vegetables_Consumption  FriedPotato_Consumption  \n",
              "0               30.0                          16.0                     12.0  \n",
              "1               30.0                           0.0                      4.0  \n",
              "2               12.0                           3.0                     16.0  \n",
              "3               30.0                          30.0                      8.0  \n",
              "4                8.0                           4.0                      0.0  "
            ],
            "text/html": [
              "\n",
              "\n",
              "  <div id=\"df-b884d22d-5f5a-4a0d-9f89-99b2bcbf5168\">\n",
              "    <div class=\"colab-df-container\">\n",
              "      <div>\n",
              "<style scoped>\n",
              "    .dataframe tbody tr th:only-of-type {\n",
              "        vertical-align: middle;\n",
              "    }\n",
              "\n",
              "    .dataframe tbody tr th {\n",
              "        vertical-align: top;\n",
              "    }\n",
              "\n",
              "    .dataframe thead th {\n",
              "        text-align: right;\n",
              "    }\n",
              "</style>\n",
              "<table border=\"1\" class=\"dataframe\">\n",
              "  <thead>\n",
              "    <tr style=\"text-align: right;\">\n",
              "      <th></th>\n",
              "      <th>General_Health</th>\n",
              "      <th>Checkup</th>\n",
              "      <th>Exercise</th>\n",
              "      <th>Heart_Disease</th>\n",
              "      <th>Skin_Cancer</th>\n",
              "      <th>Other_Cancer</th>\n",
              "      <th>Depression</th>\n",
              "      <th>Diabetes</th>\n",
              "      <th>Arthritis</th>\n",
              "      <th>Sex</th>\n",
              "      <th>Age_Category</th>\n",
              "      <th>Height_(cm)</th>\n",
              "      <th>Weight_(kg)</th>\n",
              "      <th>BMI</th>\n",
              "      <th>Smoking_History</th>\n",
              "      <th>Alcohol_Consumption</th>\n",
              "      <th>Fruit_Consumption</th>\n",
              "      <th>Green_Vegetables_Consumption</th>\n",
              "      <th>FriedPotato_Consumption</th>\n",
              "    </tr>\n",
              "  </thead>\n",
              "  <tbody>\n",
              "    <tr>\n",
              "      <th>0</th>\n",
              "      <td>Poor</td>\n",
              "      <td>Within the past 2 years</td>\n",
              "      <td>No</td>\n",
              "      <td>No</td>\n",
              "      <td>No</td>\n",
              "      <td>No</td>\n",
              "      <td>No</td>\n",
              "      <td>No</td>\n",
              "      <td>Yes</td>\n",
              "      <td>Female</td>\n",
              "      <td>70-74</td>\n",
              "      <td>150.0</td>\n",
              "      <td>32.66</td>\n",
              "      <td>14.54</td>\n",
              "      <td>Yes</td>\n",
              "      <td>0.0</td>\n",
              "      <td>30.0</td>\n",
              "      <td>16.0</td>\n",
              "      <td>12.0</td>\n",
              "    </tr>\n",
              "    <tr>\n",
              "      <th>1</th>\n",
              "      <td>Very Good</td>\n",
              "      <td>Within the past year</td>\n",
              "      <td>No</td>\n",
              "      <td>Yes</td>\n",
              "      <td>No</td>\n",
              "      <td>No</td>\n",
              "      <td>No</td>\n",
              "      <td>Yes</td>\n",
              "      <td>No</td>\n",
              "      <td>Female</td>\n",
              "      <td>70-74</td>\n",
              "      <td>165.0</td>\n",
              "      <td>77.11</td>\n",
              "      <td>28.29</td>\n",
              "      <td>No</td>\n",
              "      <td>0.0</td>\n",
              "      <td>30.0</td>\n",
              "      <td>0.0</td>\n",
              "      <td>4.0</td>\n",
              "    </tr>\n",
              "    <tr>\n",
              "      <th>2</th>\n",
              "      <td>Very Good</td>\n",
              "      <td>Within the past year</td>\n",
              "      <td>Yes</td>\n",
              "      <td>No</td>\n",
              "      <td>No</td>\n",
              "      <td>No</td>\n",
              "      <td>No</td>\n",
              "      <td>Yes</td>\n",
              "      <td>No</td>\n",
              "      <td>Female</td>\n",
              "      <td>60-64</td>\n",
              "      <td>163.0</td>\n",
              "      <td>88.45</td>\n",
              "      <td>33.47</td>\n",
              "      <td>No</td>\n",
              "      <td>4.0</td>\n",
              "      <td>12.0</td>\n",
              "      <td>3.0</td>\n",
              "      <td>16.0</td>\n",
              "    </tr>\n",
              "    <tr>\n",
              "      <th>3</th>\n",
              "      <td>Poor</td>\n",
              "      <td>Within the past year</td>\n",
              "      <td>Yes</td>\n",
              "      <td>Yes</td>\n",
              "      <td>No</td>\n",
              "      <td>No</td>\n",
              "      <td>No</td>\n",
              "      <td>Yes</td>\n",
              "      <td>No</td>\n",
              "      <td>Male</td>\n",
              "      <td>75-79</td>\n",
              "      <td>180.0</td>\n",
              "      <td>93.44</td>\n",
              "      <td>28.73</td>\n",
              "      <td>No</td>\n",
              "      <td>0.0</td>\n",
              "      <td>30.0</td>\n",
              "      <td>30.0</td>\n",
              "      <td>8.0</td>\n",
              "    </tr>\n",
              "    <tr>\n",
              "      <th>4</th>\n",
              "      <td>Good</td>\n",
              "      <td>Within the past year</td>\n",
              "      <td>No</td>\n",
              "      <td>No</td>\n",
              "      <td>No</td>\n",
              "      <td>No</td>\n",
              "      <td>No</td>\n",
              "      <td>No</td>\n",
              "      <td>No</td>\n",
              "      <td>Male</td>\n",
              "      <td>80+</td>\n",
              "      <td>191.0</td>\n",
              "      <td>88.45</td>\n",
              "      <td>24.37</td>\n",
              "      <td>Yes</td>\n",
              "      <td>0.0</td>\n",
              "      <td>8.0</td>\n",
              "      <td>4.0</td>\n",
              "      <td>0.0</td>\n",
              "    </tr>\n",
              "  </tbody>\n",
              "</table>\n",
              "</div>\n",
              "      <button class=\"colab-df-convert\" onclick=\"convertToInteractive('df-b884d22d-5f5a-4a0d-9f89-99b2bcbf5168')\"\n",
              "              title=\"Convert this dataframe to an interactive table.\"\n",
              "              style=\"display:none;\">\n",
              "\n",
              "  <svg xmlns=\"http://www.w3.org/2000/svg\" height=\"24px\"viewBox=\"0 0 24 24\"\n",
              "       width=\"24px\">\n",
              "    <path d=\"M0 0h24v24H0V0z\" fill=\"none\"/>\n",
              "    <path d=\"M18.56 5.44l.94 2.06.94-2.06 2.06-.94-2.06-.94-.94-2.06-.94 2.06-2.06.94zm-11 1L8.5 8.5l.94-2.06 2.06-.94-2.06-.94L8.5 2.5l-.94 2.06-2.06.94zm10 10l.94 2.06.94-2.06 2.06-.94-2.06-.94-.94-2.06-.94 2.06-2.06.94z\"/><path d=\"M17.41 7.96l-1.37-1.37c-.4-.4-.92-.59-1.43-.59-.52 0-1.04.2-1.43.59L10.3 9.45l-7.72 7.72c-.78.78-.78 2.05 0 2.83L4 21.41c.39.39.9.59 1.41.59.51 0 1.02-.2 1.41-.59l7.78-7.78 2.81-2.81c.8-.78.8-2.07 0-2.86zM5.41 20L4 18.59l7.72-7.72 1.47 1.35L5.41 20z\"/>\n",
              "  </svg>\n",
              "      </button>\n",
              "\n",
              "\n",
              "\n",
              "    <div id=\"df-60e1147e-3bbd-4c57-9819-952508231ecf\">\n",
              "      <button class=\"colab-df-quickchart\" onclick=\"quickchart('df-60e1147e-3bbd-4c57-9819-952508231ecf')\"\n",
              "              title=\"Suggest charts.\"\n",
              "              style=\"display:none;\">\n",
              "\n",
              "<svg xmlns=\"http://www.w3.org/2000/svg\" height=\"24px\"viewBox=\"0 0 24 24\"\n",
              "     width=\"24px\">\n",
              "    <g>\n",
              "        <path d=\"M19 3H5c-1.1 0-2 .9-2 2v14c0 1.1.9 2 2 2h14c1.1 0 2-.9 2-2V5c0-1.1-.9-2-2-2zM9 17H7v-7h2v7zm4 0h-2V7h2v10zm4 0h-2v-4h2v4z\"/>\n",
              "    </g>\n",
              "</svg>\n",
              "      </button>\n",
              "    </div>\n",
              "\n",
              "<style>\n",
              "  .colab-df-quickchart {\n",
              "    background-color: #E8F0FE;\n",
              "    border: none;\n",
              "    border-radius: 50%;\n",
              "    cursor: pointer;\n",
              "    display: none;\n",
              "    fill: #1967D2;\n",
              "    height: 32px;\n",
              "    padding: 0 0 0 0;\n",
              "    width: 32px;\n",
              "  }\n",
              "\n",
              "  .colab-df-quickchart:hover {\n",
              "    background-color: #E2EBFA;\n",
              "    box-shadow: 0px 1px 2px rgba(60, 64, 67, 0.3), 0px 1px 3px 1px rgba(60, 64, 67, 0.15);\n",
              "    fill: #174EA6;\n",
              "  }\n",
              "\n",
              "  [theme=dark] .colab-df-quickchart {\n",
              "    background-color: #3B4455;\n",
              "    fill: #D2E3FC;\n",
              "  }\n",
              "\n",
              "  [theme=dark] .colab-df-quickchart:hover {\n",
              "    background-color: #434B5C;\n",
              "    box-shadow: 0px 1px 3px 1px rgba(0, 0, 0, 0.15);\n",
              "    filter: drop-shadow(0px 1px 2px rgba(0, 0, 0, 0.3));\n",
              "    fill: #FFFFFF;\n",
              "  }\n",
              "</style>\n",
              "\n",
              "    <script>\n",
              "      async function quickchart(key) {\n",
              "        const containerElement = document.querySelector('#' + key);\n",
              "        const charts = await google.colab.kernel.invokeFunction(\n",
              "            'suggestCharts', [key], {});\n",
              "      }\n",
              "    </script>\n",
              "\n",
              "      <script>\n",
              "\n",
              "function displayQuickchartButton(domScope) {\n",
              "  let quickchartButtonEl =\n",
              "    domScope.querySelector('#df-60e1147e-3bbd-4c57-9819-952508231ecf button.colab-df-quickchart');\n",
              "  quickchartButtonEl.style.display =\n",
              "    google.colab.kernel.accessAllowed ? 'block' : 'none';\n",
              "}\n",
              "\n",
              "        displayQuickchartButton(document);\n",
              "      </script>\n",
              "      <style>\n",
              "    .colab-df-container {\n",
              "      display:flex;\n",
              "      flex-wrap:wrap;\n",
              "      gap: 12px;\n",
              "    }\n",
              "\n",
              "    .colab-df-convert {\n",
              "      background-color: #E8F0FE;\n",
              "      border: none;\n",
              "      border-radius: 50%;\n",
              "      cursor: pointer;\n",
              "      display: none;\n",
              "      fill: #1967D2;\n",
              "      height: 32px;\n",
              "      padding: 0 0 0 0;\n",
              "      width: 32px;\n",
              "    }\n",
              "\n",
              "    .colab-df-convert:hover {\n",
              "      background-color: #E2EBFA;\n",
              "      box-shadow: 0px 1px 2px rgba(60, 64, 67, 0.3), 0px 1px 3px 1px rgba(60, 64, 67, 0.15);\n",
              "      fill: #174EA6;\n",
              "    }\n",
              "\n",
              "    [theme=dark] .colab-df-convert {\n",
              "      background-color: #3B4455;\n",
              "      fill: #D2E3FC;\n",
              "    }\n",
              "\n",
              "    [theme=dark] .colab-df-convert:hover {\n",
              "      background-color: #434B5C;\n",
              "      box-shadow: 0px 1px 3px 1px rgba(0, 0, 0, 0.15);\n",
              "      filter: drop-shadow(0px 1px 2px rgba(0, 0, 0, 0.3));\n",
              "      fill: #FFFFFF;\n",
              "    }\n",
              "  </style>\n",
              "\n",
              "      <script>\n",
              "        const buttonEl =\n",
              "          document.querySelector('#df-b884d22d-5f5a-4a0d-9f89-99b2bcbf5168 button.colab-df-convert');\n",
              "        buttonEl.style.display =\n",
              "          google.colab.kernel.accessAllowed ? 'block' : 'none';\n",
              "\n",
              "        async function convertToInteractive(key) {\n",
              "          const element = document.querySelector('#df-b884d22d-5f5a-4a0d-9f89-99b2bcbf5168');\n",
              "          const dataTable =\n",
              "            await google.colab.kernel.invokeFunction('convertToInteractive',\n",
              "                                                     [key], {});\n",
              "          if (!dataTable) return;\n",
              "\n",
              "          const docLinkHtml = 'Like what you see? Visit the ' +\n",
              "            '<a target=\"_blank\" href=https://colab.research.google.com/notebooks/data_table.ipynb>data table notebook</a>'\n",
              "            + ' to learn more about interactive tables.';\n",
              "          element.innerHTML = '';\n",
              "          dataTable['output_type'] = 'display_data';\n",
              "          await google.colab.output.renderOutput(dataTable, element);\n",
              "          const docLink = document.createElement('div');\n",
              "          docLink.innerHTML = docLinkHtml;\n",
              "          element.appendChild(docLink);\n",
              "        }\n",
              "      </script>\n",
              "    </div>\n",
              "  </div>\n"
            ]
          },
          "metadata": {},
          "execution_count": 67
        }
      ],
      "source": [
        "df = pd.read_csv('/content/drive/MyDrive/Colab Notebooks/CVD_cleaned.csv')\n",
        "df.head()"
      ]
    },
    {
      "cell_type": "code",
      "execution_count": null,
      "metadata": {
        "id": "tNZ9eTrGEnCR"
      },
      "outputs": [],
      "source": []
    },
    {
      "cell_type": "markdown",
      "source": [
        "## Exploring The Dataset"
      ],
      "metadata": {
        "id": "ob4C_q0U5dAy"
      }
    },
    {
      "cell_type": "code",
      "execution_count": null,
      "metadata": {
        "id": "t8wipBJnD-sJ",
        "colab": {
          "base_uri": "https://localhost:8080/"
        },
        "outputId": "82beb711-7973-4b22-a4e6-574ab4511548"
      },
      "outputs": [
        {
          "output_type": "execute_result",
          "data": {
            "text/plain": [
              "General_Health                  0\n",
              "Checkup                         0\n",
              "Exercise                        0\n",
              "Heart_Disease                   0\n",
              "Skin_Cancer                     0\n",
              "Other_Cancer                    0\n",
              "Depression                      0\n",
              "Diabetes                        0\n",
              "Arthritis                       0\n",
              "Sex                             0\n",
              "Age_Category                    0\n",
              "Height_(cm)                     0\n",
              "Weight_(kg)                     0\n",
              "BMI                             0\n",
              "Smoking_History                 0\n",
              "Alcohol_Consumption             0\n",
              "Fruit_Consumption               0\n",
              "Green_Vegetables_Consumption    0\n",
              "FriedPotato_Consumption         0\n",
              "dtype: int64"
            ]
          },
          "metadata": {},
          "execution_count": 68
        }
      ],
      "source": [
        "df.isnull().sum()"
      ]
    },
    {
      "cell_type": "code",
      "execution_count": null,
      "metadata": {
        "id": "V_7htnmYT5SI",
        "colab": {
          "base_uri": "https://localhost:8080/"
        },
        "outputId": "c6eb276d-35de-427c-8450-4d8449dbfc16"
      },
      "outputs": [
        {
          "output_type": "stream",
          "name": "stdout",
          "text": [
            "<class 'pandas.core.frame.DataFrame'>\n",
            "RangeIndex: 308854 entries, 0 to 308853\n",
            "Data columns (total 19 columns):\n",
            " #   Column                        Non-Null Count   Dtype  \n",
            "---  ------                        --------------   -----  \n",
            " 0   General_Health                308854 non-null  object \n",
            " 1   Checkup                       308854 non-null  object \n",
            " 2   Exercise                      308854 non-null  object \n",
            " 3   Heart_Disease                 308854 non-null  object \n",
            " 4   Skin_Cancer                   308854 non-null  object \n",
            " 5   Other_Cancer                  308854 non-null  object \n",
            " 6   Depression                    308854 non-null  object \n",
            " 7   Diabetes                      308854 non-null  object \n",
            " 8   Arthritis                     308854 non-null  object \n",
            " 9   Sex                           308854 non-null  object \n",
            " 10  Age_Category                  308854 non-null  object \n",
            " 11  Height_(cm)                   308854 non-null  float64\n",
            " 12  Weight_(kg)                   308854 non-null  float64\n",
            " 13  BMI                           308854 non-null  float64\n",
            " 14  Smoking_History               308854 non-null  object \n",
            " 15  Alcohol_Consumption           308854 non-null  float64\n",
            " 16  Fruit_Consumption             308854 non-null  float64\n",
            " 17  Green_Vegetables_Consumption  308854 non-null  float64\n",
            " 18  FriedPotato_Consumption       308854 non-null  float64\n",
            "dtypes: float64(7), object(12)\n",
            "memory usage: 44.8+ MB\n"
          ]
        }
      ],
      "source": [
        "df.info()"
      ]
    },
    {
      "cell_type": "code",
      "execution_count": null,
      "metadata": {
        "id": "lsIIKYLXibOJ",
        "colab": {
          "base_uri": "https://localhost:8080/"
        },
        "outputId": "777a588d-7b1b-4301-d35b-a09a45941880"
      },
      "outputs": [
        {
          "output_type": "stream",
          "name": "stdout",
          "text": [
            "General_Health\n",
            "['Poor' 'Very Good' 'Good' 'Fair' 'Excellent']\n",
            "## ## ## ## ## ## ## ## ## ## ## ## ## ## ## ## ## ## ## ## ## ## ## ## ## ## ## ## ## ## ## ## ## ## ## ## ## ## ## ## ## ## ## ## ## ## ## ## ## ## \n",
            "Checkup\n",
            "['Within the past 2 years' 'Within the past year' '5 or more years ago'\n",
            " 'Within the past 5 years' 'Never']\n",
            "## ## ## ## ## ## ## ## ## ## ## ## ## ## ## ## ## ## ## ## ## ## ## ## ## ## ## ## ## ## ## ## ## ## ## ## ## ## ## ## ## ## ## ## ## ## ## ## ## ## \n",
            "Exercise\n",
            "['No' 'Yes']\n",
            "## ## ## ## ## ## ## ## ## ## ## ## ## ## ## ## ## ## ## ## ## ## ## ## ## ## ## ## ## ## ## ## ## ## ## ## ## ## ## ## ## ## ## ## ## ## ## ## ## ## \n",
            "Heart_Disease\n",
            "['No' 'Yes']\n",
            "## ## ## ## ## ## ## ## ## ## ## ## ## ## ## ## ## ## ## ## ## ## ## ## ## ## ## ## ## ## ## ## ## ## ## ## ## ## ## ## ## ## ## ## ## ## ## ## ## ## \n",
            "Skin_Cancer\n",
            "['No' 'Yes']\n",
            "## ## ## ## ## ## ## ## ## ## ## ## ## ## ## ## ## ## ## ## ## ## ## ## ## ## ## ## ## ## ## ## ## ## ## ## ## ## ## ## ## ## ## ## ## ## ## ## ## ## \n",
            "Other_Cancer\n",
            "['No' 'Yes']\n",
            "## ## ## ## ## ## ## ## ## ## ## ## ## ## ## ## ## ## ## ## ## ## ## ## ## ## ## ## ## ## ## ## ## ## ## ## ## ## ## ## ## ## ## ## ## ## ## ## ## ## \n",
            "Depression\n",
            "['No' 'Yes']\n",
            "## ## ## ## ## ## ## ## ## ## ## ## ## ## ## ## ## ## ## ## ## ## ## ## ## ## ## ## ## ## ## ## ## ## ## ## ## ## ## ## ## ## ## ## ## ## ## ## ## ## \n",
            "Diabetes\n",
            "['No' 'Yes' 'No, pre-diabetes or borderline diabetes'\n",
            " 'Yes, but female told only during pregnancy']\n",
            "## ## ## ## ## ## ## ## ## ## ## ## ## ## ## ## ## ## ## ## ## ## ## ## ## ## ## ## ## ## ## ## ## ## ## ## ## ## ## ## ## ## ## ## ## ## ## ## ## ## \n",
            "Arthritis\n",
            "['Yes' 'No']\n",
            "## ## ## ## ## ## ## ## ## ## ## ## ## ## ## ## ## ## ## ## ## ## ## ## ## ## ## ## ## ## ## ## ## ## ## ## ## ## ## ## ## ## ## ## ## ## ## ## ## ## \n",
            "Sex\n",
            "['Female' 'Male']\n",
            "## ## ## ## ## ## ## ## ## ## ## ## ## ## ## ## ## ## ## ## ## ## ## ## ## ## ## ## ## ## ## ## ## ## ## ## ## ## ## ## ## ## ## ## ## ## ## ## ## ## \n",
            "Age_Category\n",
            "['70-74' '60-64' '75-79' '80+' '65-69' '50-54' '45-49' '18-24' '30-34'\n",
            " '55-59' '35-39' '40-44' '25-29']\n",
            "## ## ## ## ## ## ## ## ## ## ## ## ## ## ## ## ## ## ## ## ## ## ## ## ## ## ## ## ## ## ## ## ## ## ## ## ## ## ## ## ## ## ## ## ## ## ## ## ## ## \n",
            "Height_(cm)\n",
            "[150. 165. 163. 180. 191. 183. 175. 160. 168. 178. 152. 157. 188. 185.\n",
            " 170. 173. 155. 193. 196. 206. 198. 140. 135. 145. 147. 142. 201. 218.\n",
            " 124. 203. 137. 122. 216. 224. 229. 151. 177. 164. 162. 156. 153. 169.\n",
            " 167. 172. 106. 190. 143. 171. 154. 176. 200. 146. 148. 158. 159. 187.\n",
            " 104. 120. 107. 211. 226. 182. 213.  97. 184. 125. 127. 234. 130. 119.\n",
            " 132. 105. 166. 181. 186.  91. 174. 208. 149.  96. 197. 161.  94. 103.\n",
            " 221. 134. 144. 189. 100. 179. 117.  99. 102. 110. 241. 115. 205. 195.\n",
            " 108.]\n",
            "## ## ## ## ## ## ## ## ## ## ## ## ## ## ## ## ## ## ## ## ## ## ## ## ## ## ## ## ## ## ## ## ## ## ## ## ## ## ## ## ## ## ## ## ## ## ## ## ## ## \n",
            "Weight_(kg)\n",
            "[ 32.66  77.11  88.45  93.44 154.22  69.85 108.86  72.57  91.63  74.84\n",
            "  73.48  83.91 113.4   52.16 116.12  99.79  81.65 104.33  79.38  55.79\n",
            " 124.74  81.19  70.31 112.49 147.42  84.82 102.06  64.41  60.78  61.23\n",
            "  88.    90.72  49.9   85.28 120.2   69.4   62.14  65.77  89.81  66.68\n",
            "  86.18  72.12  87.54  62.6   75.75  88.9   92.08  56.7   68.04  79.83\n",
            "  63.5   58.97 114.76  45.36  73.94  54.43 125.19  77.56  96.16  95.25\n",
            " 115.67  82.55 136.08  78.93  70.76  95.71  53.52  87.09  55.34  83.01\n",
            " 123.38  98.88  73.03  76.66  97.52  71.67  83.46 122.47  58.06  74.39\n",
            "  67.13  82.1   47.63  99.34  85.73 108.41  91.17  57.61  63.05  45.81\n",
            "  94.35  44.45 117.93 107.5  127.01 106.59 107.95  89.36  92.99  53.07\n",
            "  78.02 131.09  97.98  84.37 111.13  50.8   57.15  64.86  80.29  76.2\n",
            " 114.31  65.32  97.07  67.59  75.3  105.69 110.68  86.64  51.26  61.69\n",
            " 107.05  42.64  40.82 101.6   90.26 131.54  98.43  78.47  59.87  68.95\n",
            "  60.33  94.8   48.53  96.62 117.48 102.51  46.27 109.77  58.51  68.49\n",
            " 133.81 158.76  52.62  80.74  48.99 117.03  54.88  33.11  51.71  92.53\n",
            "  34.02  44.91 105.23 145.6  106.14  56.25 139.71 124.28 103.42  71.21\n",
            " 138.35 143.34 101.15 103.87 145.15  93.89  49.44  46.72 120.66 132.9\n",
            " 112.04 167.83 142.88  66.22  63.96 162.39 176.9  121.56 111.58 136.98\n",
            " 110.22 170.1  122.02 133.36 119.75 129.27 175.54 151.95 118.39 121.11\n",
            " 132.45 135.62 119.29 102.97 172.37 156.49  43.09  43.54 157.4   59.42\n",
            " 181.44 125.65 127.91 144.7  149.69 113.85 163.29 100.7  115.21 112.94\n",
            " 208.65 127.46 100.24 136.53  50.35 130.63 122.92 141.97  47.17 142.43\n",
            " 132.   118.84 116.57 151.5  137.44  72.   140.61 169.19  44.   160.57\n",
            " 104.78 130.18  65.   134.72  48.08 139.25  53.98  36.29 129.73  38.56\n",
            " 228.16 166.92 148.32 174.63 146.96 235.87 161.03 152.86 105.    75.\n",
            " 109.   123.83 165.56  42.18 134.26 140.16 228.61 128.82  39.92  78.\n",
            " 109.32 204.12  85.   141.52 161.48 185.97  90.    61.    95.    60.\n",
            "  45.   126.1   82.   137.89  70.    64.   100.    63.   126.55 135.17\n",
            "  74.   150.59  83.   189.15 143.79  97.    73.    54.    80.   164.2\n",
            "  55.   155.13  52.    67.   144.24  68.   226.8   62.    76.   190.51\n",
            " 146.51 188.24 199.58  79.    96.   152.41  58.   138.8  118.   165.11\n",
            " 153.31  84.    38.1   41.73  39.01  37.19  87.   128.37 156.04 187.79\n",
            " 168.28 136.    35.38 166.01 213.19  89.    66.    40.37  81.   210.92\n",
            "  50.   155.58  25.4  224.53 179.17 159.66 176.45 209.56 151.05 148.78\n",
            " 217.72 146.06 140.   219.99  86.   141.07 110.    92.    31.75  41.28\n",
            "  33.57 130.    48.   161.93  94.    98.   183.25  53.    34.47 120.\n",
            "  77.   183.7  272.16 171.46 206.84  26.76 200.    69.   101.   180.53\n",
            "  47.   126.    59.   215.46 175.99 166.47 184.61 153.77  39.46 174.18\n",
            " 186.43  46.    40.   195.04 104.   201.85 147.87 192.78  36.74 162.84\n",
            " 134.   157.85 191.87 272.61  51.   231.33  37.65  93.    56.   149.23\n",
            " 154.68 158.3  194.59 179.62 159.   210.47 180.98 169.64 285.76 177.81\n",
            " 119.   150.   159.21 167.38 244.03 163.75 168.74 173.27 227.7   99.\n",
            " 200.94 229.52 219.54 232.69 175.09 229.97 293.02 200.49 195.95 190.96\n",
            " 212.73 150.14 229.06 178.72 181.89  34.93 171.   156.94 176.    57.\n",
            "  71.   103.   254.01  30.84 249.48 240.4  238.14 205.93 273.52 215.\n",
            " 187.33 182.   164.65 233.6   29.94 199.13 185.07 216.36 186.88 189.6\n",
            " 173.73 219.09  24.95 203.21 210.01  35.83 190.06 116.   197.31 154.\n",
            " 180.08 102.   222.26 202.76  27.22 206.38 135.   170.55 160.    43.\n",
            " 188.69 106.   177.35 112.   160.12 195.   172.82 220.45 184.16 185.52\n",
            "  26.31  41.   274.42 207.75 180.   175.   141.   230.88 222.71 258.55\n",
            " 203.66 113.   182.34 195.5  191.42 215.91 178.26 257.64 244.94 263.08\n",
            " 214.1  117.   172.   115.   185.   247.21  39.   193.68 127.    30.\n",
            " 250.   252.2  283.5   49.    42.  ]\n",
            "## ## ## ## ## ## ## ## ## ## ## ## ## ## ## ## ## ## ## ## ## ## ## ## ## ## ## ## ## ## ## ## ## ## ## ## ## ## ## ## ## ## ## ## ## ## ## ## ## ## \n",
            "BMI\n",
            "[14.54 28.29 33.47 ... 63.83 19.09 56.32]\n",
            "## ## ## ## ## ## ## ## ## ## ## ## ## ## ## ## ## ## ## ## ## ## ## ## ## ## ## ## ## ## ## ## ## ## ## ## ## ## ## ## ## ## ## ## ## ## ## ## ## ## \n",
            "Smoking_History\n",
            "['Yes' 'No']\n",
            "## ## ## ## ## ## ## ## ## ## ## ## ## ## ## ## ## ## ## ## ## ## ## ## ## ## ## ## ## ## ## ## ## ## ## ## ## ## ## ## ## ## ## ## ## ## ## ## ## ## \n",
            "Alcohol_Consumption\n",
            "[ 0.  4.  3.  8. 30.  2. 12.  1.  5. 10. 20. 17. 16.  6. 25. 28. 15.  7.\n",
            "  9. 24. 11. 29. 27. 14. 21. 23. 18. 26. 22. 13. 19.]\n",
            "## ## ## ## ## ## ## ## ## ## ## ## ## ## ## ## ## ## ## ## ## ## ## ## ## ## ## ## ## ## ## ## ## ## ## ## ## ## ## ## ## ## ## ## ## ## ## ## ## ## \n",
            "Fruit_Consumption\n",
            "[ 30.  12.   8.  16.   2.   1.  60.   0.   7.   5.   3.   6.  90.  28.\n",
            "  20.   4.  80.  24.  15.  10.  25.  14. 120.  32.  40.  17.  45. 100.\n",
            "   9.  99.  96.  35.  50.  56.  48.  27.  72.  36.  84.  26.  23.  18.\n",
            "  21.  42.  22.  11. 112.  29.  64.  70.  33.  76.  44.  39.  75.  31.\n",
            "  92. 104.  88.  65.  55.  13.  38.  63.  97. 108.  19.  52.  98.  37.\n",
            "  68.  34.  41. 116.  54.  62.  85.]\n",
            "## ## ## ## ## ## ## ## ## ## ## ## ## ## ## ## ## ## ## ## ## ## ## ## ## ## ## ## ## ## ## ## ## ## ## ## ## ## ## ## ## ## ## ## ## ## ## ## ## ## \n",
            "Green_Vegetables_Consumption\n",
            "[ 16.   0.   3.  30.   4.  12.   8.  20.   1.  10.   5.   2.   6.  60.\n",
            "  28.  25.  14.  40.   7.  22.  24.  15. 120.  90.  19.  13.  11.  80.\n",
            "  27.  17.  56.  18.   9.  21.  99.  29.  31.  45.  23. 100. 104.  32.\n",
            "  48.  75.  36.  35. 112.  26.  50.  33.  96.  52.  76.  84.  34.  97.\n",
            "  88.  98.  68.  92.  55.  95.  64. 124.  61.  65.  77.  85.  44.  39.\n",
            "  70.  93. 128.  37.  53.]\n",
            "## ## ## ## ## ## ## ## ## ## ## ## ## ## ## ## ## ## ## ## ## ## ## ## ## ## ## ## ## ## ## ## ## ## ## ## ## ## ## ## ## ## ## ## ## ## ## ## ## ## \n",
            "FriedPotato_Consumption\n",
            "[ 12.   4.  16.   8.   0.   1.   2.  30.  20.  15.  10.   3.   7.  28.\n",
            "   5.   9.   6. 120.  32.  14.  60.  33.  48.  25.  24.  21.  90.  13.\n",
            "  99.  17.  18.  40.  56.  34.  36.  44. 100.  11.  64.  45.  80.  29.\n",
            "  68.  26.  50.  22.  95.  23.  27. 112.  35.  31.  98.  96.  88.  92.\n",
            "  19.  76.  49.  97. 128.  41.  37.  42.  52.  72.  46. 124.  84.]\n",
            "## ## ## ## ## ## ## ## ## ## ## ## ## ## ## ## ## ## ## ## ## ## ## ## ## ## ## ## ## ## ## ## ## ## ## ## ## ## ## ## ## ## ## ## ## ## ## ## ## ## \n"
          ]
        }
      ],
      "source": [
        "for i in range(len(df.columns)):\n",
        "  print(df.columns[i])\n",
        "  print(df[df.columns[i]].unique())\n",
        "  print('## ' * 50)"
      ]
    },
    {
      "cell_type": "code",
      "execution_count": null,
      "metadata": {
        "id": "ATgIodEcUTV-"
      },
      "outputs": [],
      "source": [
        "## Creating numerical and categorical columns\n",
        "numerical = df.select_dtypes(include=['float64']).columns.sort_values()\n",
        "categorical = df.select_dtypes(include=['object']).columns.sort_values()"
      ]
    },
    {
      "cell_type": "markdown",
      "source": [
        "## EDA"
      ],
      "metadata": {
        "id": "wN9FZLNB5qLh"
      }
    },
    {
      "cell_type": "code",
      "execution_count": null,
      "metadata": {
        "id": "aU4snfa7Um2d",
        "colab": {
          "base_uri": "https://localhost:8080/"
        },
        "outputId": "02cce82b-2f6f-4a77-b810-f06ce40c29f0"
      },
      "outputs": [
        {
          "output_type": "stream",
          "name": "stdout",
          "text": [
            "There are 12 Categorical variables\n",
            "There are 7 Numerical variables\n"
          ]
        }
      ],
      "source": [
        "print(f'There are {len(categorical)} Categorical variables')\n",
        "print(f'There are {len(numerical)} Numerical variables')"
      ]
    },
    {
      "cell_type": "code",
      "execution_count": null,
      "metadata": {
        "id": "6eFYEvlbg6oP",
        "colab": {
          "base_uri": "https://localhost:8080/"
        },
        "outputId": "f291c0bc-2968-433c-e4f8-931aef108be1"
      },
      "outputs": [
        {
          "output_type": "stream",
          "name": "stdout",
          "text": [
            "<class 'pandas.core.frame.DataFrame'>\n",
            "RangeIndex: 308854 entries, 0 to 308853\n",
            "Data columns (total 19 columns):\n",
            " #   Column                        Non-Null Count   Dtype  \n",
            "---  ------                        --------------   -----  \n",
            " 0   General_Health                308854 non-null  object \n",
            " 1   Checkup                       308854 non-null  object \n",
            " 2   Exercise                      308854 non-null  object \n",
            " 3   Heart_Disease                 308854 non-null  object \n",
            " 4   Skin_Cancer                   308854 non-null  object \n",
            " 5   Other_Cancer                  308854 non-null  object \n",
            " 6   Depression                    308854 non-null  object \n",
            " 7   Diabetes                      308854 non-null  object \n",
            " 8   Arthritis                     308854 non-null  object \n",
            " 9   Sex                           308854 non-null  object \n",
            " 10  Age_Category                  308854 non-null  object \n",
            " 11  Height_(cm)                   308854 non-null  float64\n",
            " 12  Weight_(kg)                   308854 non-null  float64\n",
            " 13  BMI                           308854 non-null  float64\n",
            " 14  Smoking_History               308854 non-null  object \n",
            " 15  Alcohol_Consumption           308854 non-null  float64\n",
            " 16  Fruit_Consumption             308854 non-null  float64\n",
            " 17  Green_Vegetables_Consumption  308854 non-null  float64\n",
            " 18  FriedPotato_Consumption       308854 non-null  float64\n",
            "dtypes: float64(7), object(12)\n",
            "memory usage: 44.8+ MB\n"
          ]
        }
      ],
      "source": [
        "df = df.dropna()\n",
        "df.info()"
      ]
    },
    {
      "cell_type": "code",
      "source": [
        "categorical"
      ],
      "metadata": {
        "colab": {
          "base_uri": "https://localhost:8080/"
        },
        "id": "zPsmIREh5zDX",
        "outputId": "b346a663-68b7-473d-dc2b-6dc025e62b24"
      },
      "execution_count": null,
      "outputs": [
        {
          "output_type": "execute_result",
          "data": {
            "text/plain": [
              "Index(['Age_Category', 'Arthritis', 'Checkup', 'Depression', 'Diabetes',\n",
              "       'Exercise', 'General_Health', 'Heart_Disease', 'Other_Cancer', 'Sex',\n",
              "       'Skin_Cancer', 'Smoking_History'],\n",
              "      dtype='object')"
            ]
          },
          "metadata": {},
          "execution_count": 74
        }
      ]
    },
    {
      "cell_type": "code",
      "source": [
        "numerical"
      ],
      "metadata": {
        "id": "h3vZybiKIUZI",
        "colab": {
          "base_uri": "https://localhost:8080/"
        },
        "outputId": "19b5ecec-6c6b-4791-e031-b9bc761c97f2"
      },
      "execution_count": null,
      "outputs": [
        {
          "output_type": "execute_result",
          "data": {
            "text/plain": [
              "Index(['Alcohol_Consumption', 'BMI', 'FriedPotato_Consumption',\n",
              "       'Fruit_Consumption', 'Green_Vegetables_Consumption', 'Height_(cm)',\n",
              "       'Weight_(kg)'],\n",
              "      dtype='object')"
            ]
          },
          "metadata": {},
          "execution_count": 75
        }
      ]
    },
    {
      "cell_type": "code",
      "source": [
        "label_encoder = preprocessing.LabelEncoder()\n",
        "\n",
        "for i in (df[categorical]):\n",
        "  df[i] = label_encoder.fit_transform(df[i])\n",
        "\n",
        "df.head()"
      ],
      "metadata": {
        "id": "nFDKToVkIV3g",
        "colab": {
          "base_uri": "https://localhost:8080/",
          "height": 270
        },
        "outputId": "3b9e1af5-cd02-4f22-bc70-b21d6f56f264"
      },
      "execution_count": null,
      "outputs": [
        {
          "output_type": "execute_result",
          "data": {
            "text/plain": [
              "   General_Health  Checkup  Exercise  Heart_Disease  Skin_Cancer  \\\n",
              "0               3        2         0              0            0   \n",
              "1               4        4         0              1            0   \n",
              "2               4        4         1              0            0   \n",
              "3               3        4         1              1            0   \n",
              "4               2        4         0              0            0   \n",
              "\n",
              "   Other_Cancer  Depression  Diabetes  Arthritis  Sex  Age_Category  \\\n",
              "0             0           0         0          1    0            10   \n",
              "1             0           0         2          0    0            10   \n",
              "2             0           0         2          0    0             8   \n",
              "3             0           0         2          0    1            11   \n",
              "4             0           0         0          0    1            12   \n",
              "\n",
              "   Height_(cm)  Weight_(kg)    BMI  Smoking_History  Alcohol_Consumption  \\\n",
              "0        150.0        32.66  14.54                1                  0.0   \n",
              "1        165.0        77.11  28.29                0                  0.0   \n",
              "2        163.0        88.45  33.47                0                  4.0   \n",
              "3        180.0        93.44  28.73                0                  0.0   \n",
              "4        191.0        88.45  24.37                1                  0.0   \n",
              "\n",
              "   Fruit_Consumption  Green_Vegetables_Consumption  FriedPotato_Consumption  \n",
              "0               30.0                          16.0                     12.0  \n",
              "1               30.0                           0.0                      4.0  \n",
              "2               12.0                           3.0                     16.0  \n",
              "3               30.0                          30.0                      8.0  \n",
              "4                8.0                           4.0                      0.0  "
            ],
            "text/html": [
              "\n",
              "\n",
              "  <div id=\"df-95868668-6367-473e-baa4-a79f70491f4d\">\n",
              "    <div class=\"colab-df-container\">\n",
              "      <div>\n",
              "<style scoped>\n",
              "    .dataframe tbody tr th:only-of-type {\n",
              "        vertical-align: middle;\n",
              "    }\n",
              "\n",
              "    .dataframe tbody tr th {\n",
              "        vertical-align: top;\n",
              "    }\n",
              "\n",
              "    .dataframe thead th {\n",
              "        text-align: right;\n",
              "    }\n",
              "</style>\n",
              "<table border=\"1\" class=\"dataframe\">\n",
              "  <thead>\n",
              "    <tr style=\"text-align: right;\">\n",
              "      <th></th>\n",
              "      <th>General_Health</th>\n",
              "      <th>Checkup</th>\n",
              "      <th>Exercise</th>\n",
              "      <th>Heart_Disease</th>\n",
              "      <th>Skin_Cancer</th>\n",
              "      <th>Other_Cancer</th>\n",
              "      <th>Depression</th>\n",
              "      <th>Diabetes</th>\n",
              "      <th>Arthritis</th>\n",
              "      <th>Sex</th>\n",
              "      <th>Age_Category</th>\n",
              "      <th>Height_(cm)</th>\n",
              "      <th>Weight_(kg)</th>\n",
              "      <th>BMI</th>\n",
              "      <th>Smoking_History</th>\n",
              "      <th>Alcohol_Consumption</th>\n",
              "      <th>Fruit_Consumption</th>\n",
              "      <th>Green_Vegetables_Consumption</th>\n",
              "      <th>FriedPotato_Consumption</th>\n",
              "    </tr>\n",
              "  </thead>\n",
              "  <tbody>\n",
              "    <tr>\n",
              "      <th>0</th>\n",
              "      <td>3</td>\n",
              "      <td>2</td>\n",
              "      <td>0</td>\n",
              "      <td>0</td>\n",
              "      <td>0</td>\n",
              "      <td>0</td>\n",
              "      <td>0</td>\n",
              "      <td>0</td>\n",
              "      <td>1</td>\n",
              "      <td>0</td>\n",
              "      <td>10</td>\n",
              "      <td>150.0</td>\n",
              "      <td>32.66</td>\n",
              "      <td>14.54</td>\n",
              "      <td>1</td>\n",
              "      <td>0.0</td>\n",
              "      <td>30.0</td>\n",
              "      <td>16.0</td>\n",
              "      <td>12.0</td>\n",
              "    </tr>\n",
              "    <tr>\n",
              "      <th>1</th>\n",
              "      <td>4</td>\n",
              "      <td>4</td>\n",
              "      <td>0</td>\n",
              "      <td>1</td>\n",
              "      <td>0</td>\n",
              "      <td>0</td>\n",
              "      <td>0</td>\n",
              "      <td>2</td>\n",
              "      <td>0</td>\n",
              "      <td>0</td>\n",
              "      <td>10</td>\n",
              "      <td>165.0</td>\n",
              "      <td>77.11</td>\n",
              "      <td>28.29</td>\n",
              "      <td>0</td>\n",
              "      <td>0.0</td>\n",
              "      <td>30.0</td>\n",
              "      <td>0.0</td>\n",
              "      <td>4.0</td>\n",
              "    </tr>\n",
              "    <tr>\n",
              "      <th>2</th>\n",
              "      <td>4</td>\n",
              "      <td>4</td>\n",
              "      <td>1</td>\n",
              "      <td>0</td>\n",
              "      <td>0</td>\n",
              "      <td>0</td>\n",
              "      <td>0</td>\n",
              "      <td>2</td>\n",
              "      <td>0</td>\n",
              "      <td>0</td>\n",
              "      <td>8</td>\n",
              "      <td>163.0</td>\n",
              "      <td>88.45</td>\n",
              "      <td>33.47</td>\n",
              "      <td>0</td>\n",
              "      <td>4.0</td>\n",
              "      <td>12.0</td>\n",
              "      <td>3.0</td>\n",
              "      <td>16.0</td>\n",
              "    </tr>\n",
              "    <tr>\n",
              "      <th>3</th>\n",
              "      <td>3</td>\n",
              "      <td>4</td>\n",
              "      <td>1</td>\n",
              "      <td>1</td>\n",
              "      <td>0</td>\n",
              "      <td>0</td>\n",
              "      <td>0</td>\n",
              "      <td>2</td>\n",
              "      <td>0</td>\n",
              "      <td>1</td>\n",
              "      <td>11</td>\n",
              "      <td>180.0</td>\n",
              "      <td>93.44</td>\n",
              "      <td>28.73</td>\n",
              "      <td>0</td>\n",
              "      <td>0.0</td>\n",
              "      <td>30.0</td>\n",
              "      <td>30.0</td>\n",
              "      <td>8.0</td>\n",
              "    </tr>\n",
              "    <tr>\n",
              "      <th>4</th>\n",
              "      <td>2</td>\n",
              "      <td>4</td>\n",
              "      <td>0</td>\n",
              "      <td>0</td>\n",
              "      <td>0</td>\n",
              "      <td>0</td>\n",
              "      <td>0</td>\n",
              "      <td>0</td>\n",
              "      <td>0</td>\n",
              "      <td>1</td>\n",
              "      <td>12</td>\n",
              "      <td>191.0</td>\n",
              "      <td>88.45</td>\n",
              "      <td>24.37</td>\n",
              "      <td>1</td>\n",
              "      <td>0.0</td>\n",
              "      <td>8.0</td>\n",
              "      <td>4.0</td>\n",
              "      <td>0.0</td>\n",
              "    </tr>\n",
              "  </tbody>\n",
              "</table>\n",
              "</div>\n",
              "      <button class=\"colab-df-convert\" onclick=\"convertToInteractive('df-95868668-6367-473e-baa4-a79f70491f4d')\"\n",
              "              title=\"Convert this dataframe to an interactive table.\"\n",
              "              style=\"display:none;\">\n",
              "\n",
              "  <svg xmlns=\"http://www.w3.org/2000/svg\" height=\"24px\"viewBox=\"0 0 24 24\"\n",
              "       width=\"24px\">\n",
              "    <path d=\"M0 0h24v24H0V0z\" fill=\"none\"/>\n",
              "    <path d=\"M18.56 5.44l.94 2.06.94-2.06 2.06-.94-2.06-.94-.94-2.06-.94 2.06-2.06.94zm-11 1L8.5 8.5l.94-2.06 2.06-.94-2.06-.94L8.5 2.5l-.94 2.06-2.06.94zm10 10l.94 2.06.94-2.06 2.06-.94-2.06-.94-.94-2.06-.94 2.06-2.06.94z\"/><path d=\"M17.41 7.96l-1.37-1.37c-.4-.4-.92-.59-1.43-.59-.52 0-1.04.2-1.43.59L10.3 9.45l-7.72 7.72c-.78.78-.78 2.05 0 2.83L4 21.41c.39.39.9.59 1.41.59.51 0 1.02-.2 1.41-.59l7.78-7.78 2.81-2.81c.8-.78.8-2.07 0-2.86zM5.41 20L4 18.59l7.72-7.72 1.47 1.35L5.41 20z\"/>\n",
              "  </svg>\n",
              "      </button>\n",
              "\n",
              "\n",
              "\n",
              "    <div id=\"df-3293ccc3-16aa-4033-ae59-544e4e242e47\">\n",
              "      <button class=\"colab-df-quickchart\" onclick=\"quickchart('df-3293ccc3-16aa-4033-ae59-544e4e242e47')\"\n",
              "              title=\"Suggest charts.\"\n",
              "              style=\"display:none;\">\n",
              "\n",
              "<svg xmlns=\"http://www.w3.org/2000/svg\" height=\"24px\"viewBox=\"0 0 24 24\"\n",
              "     width=\"24px\">\n",
              "    <g>\n",
              "        <path d=\"M19 3H5c-1.1 0-2 .9-2 2v14c0 1.1.9 2 2 2h14c1.1 0 2-.9 2-2V5c0-1.1-.9-2-2-2zM9 17H7v-7h2v7zm4 0h-2V7h2v10zm4 0h-2v-4h2v4z\"/>\n",
              "    </g>\n",
              "</svg>\n",
              "      </button>\n",
              "    </div>\n",
              "\n",
              "<style>\n",
              "  .colab-df-quickchart {\n",
              "    background-color: #E8F0FE;\n",
              "    border: none;\n",
              "    border-radius: 50%;\n",
              "    cursor: pointer;\n",
              "    display: none;\n",
              "    fill: #1967D2;\n",
              "    height: 32px;\n",
              "    padding: 0 0 0 0;\n",
              "    width: 32px;\n",
              "  }\n",
              "\n",
              "  .colab-df-quickchart:hover {\n",
              "    background-color: #E2EBFA;\n",
              "    box-shadow: 0px 1px 2px rgba(60, 64, 67, 0.3), 0px 1px 3px 1px rgba(60, 64, 67, 0.15);\n",
              "    fill: #174EA6;\n",
              "  }\n",
              "\n",
              "  [theme=dark] .colab-df-quickchart {\n",
              "    background-color: #3B4455;\n",
              "    fill: #D2E3FC;\n",
              "  }\n",
              "\n",
              "  [theme=dark] .colab-df-quickchart:hover {\n",
              "    background-color: #434B5C;\n",
              "    box-shadow: 0px 1px 3px 1px rgba(0, 0, 0, 0.15);\n",
              "    filter: drop-shadow(0px 1px 2px rgba(0, 0, 0, 0.3));\n",
              "    fill: #FFFFFF;\n",
              "  }\n",
              "</style>\n",
              "\n",
              "    <script>\n",
              "      async function quickchart(key) {\n",
              "        const containerElement = document.querySelector('#' + key);\n",
              "        const charts = await google.colab.kernel.invokeFunction(\n",
              "            'suggestCharts', [key], {});\n",
              "      }\n",
              "    </script>\n",
              "\n",
              "      <script>\n",
              "\n",
              "function displayQuickchartButton(domScope) {\n",
              "  let quickchartButtonEl =\n",
              "    domScope.querySelector('#df-3293ccc3-16aa-4033-ae59-544e4e242e47 button.colab-df-quickchart');\n",
              "  quickchartButtonEl.style.display =\n",
              "    google.colab.kernel.accessAllowed ? 'block' : 'none';\n",
              "}\n",
              "\n",
              "        displayQuickchartButton(document);\n",
              "      </script>\n",
              "      <style>\n",
              "    .colab-df-container {\n",
              "      display:flex;\n",
              "      flex-wrap:wrap;\n",
              "      gap: 12px;\n",
              "    }\n",
              "\n",
              "    .colab-df-convert {\n",
              "      background-color: #E8F0FE;\n",
              "      border: none;\n",
              "      border-radius: 50%;\n",
              "      cursor: pointer;\n",
              "      display: none;\n",
              "      fill: #1967D2;\n",
              "      height: 32px;\n",
              "      padding: 0 0 0 0;\n",
              "      width: 32px;\n",
              "    }\n",
              "\n",
              "    .colab-df-convert:hover {\n",
              "      background-color: #E2EBFA;\n",
              "      box-shadow: 0px 1px 2px rgba(60, 64, 67, 0.3), 0px 1px 3px 1px rgba(60, 64, 67, 0.15);\n",
              "      fill: #174EA6;\n",
              "    }\n",
              "\n",
              "    [theme=dark] .colab-df-convert {\n",
              "      background-color: #3B4455;\n",
              "      fill: #D2E3FC;\n",
              "    }\n",
              "\n",
              "    [theme=dark] .colab-df-convert:hover {\n",
              "      background-color: #434B5C;\n",
              "      box-shadow: 0px 1px 3px 1px rgba(0, 0, 0, 0.15);\n",
              "      filter: drop-shadow(0px 1px 2px rgba(0, 0, 0, 0.3));\n",
              "      fill: #FFFFFF;\n",
              "    }\n",
              "  </style>\n",
              "\n",
              "      <script>\n",
              "        const buttonEl =\n",
              "          document.querySelector('#df-95868668-6367-473e-baa4-a79f70491f4d button.colab-df-convert');\n",
              "        buttonEl.style.display =\n",
              "          google.colab.kernel.accessAllowed ? 'block' : 'none';\n",
              "\n",
              "        async function convertToInteractive(key) {\n",
              "          const element = document.querySelector('#df-95868668-6367-473e-baa4-a79f70491f4d');\n",
              "          const dataTable =\n",
              "            await google.colab.kernel.invokeFunction('convertToInteractive',\n",
              "                                                     [key], {});\n",
              "          if (!dataTable) return;\n",
              "\n",
              "          const docLinkHtml = 'Like what you see? Visit the ' +\n",
              "            '<a target=\"_blank\" href=https://colab.research.google.com/notebooks/data_table.ipynb>data table notebook</a>'\n",
              "            + ' to learn more about interactive tables.';\n",
              "          element.innerHTML = '';\n",
              "          dataTable['output_type'] = 'display_data';\n",
              "          await google.colab.output.renderOutput(dataTable, element);\n",
              "          const docLink = document.createElement('div');\n",
              "          docLink.innerHTML = docLinkHtml;\n",
              "          element.appendChild(docLink);\n",
              "        }\n",
              "      </script>\n",
              "    </div>\n",
              "  </div>\n"
            ]
          },
          "metadata": {},
          "execution_count": 76
        }
      ]
    },
    {
      "cell_type": "code",
      "source": [],
      "metadata": {
        "id": "QXp4SUPoKZyy"
      },
      "execution_count": null,
      "outputs": []
    },
    {
      "cell_type": "code",
      "source": [
        "df.info()"
      ],
      "metadata": {
        "id": "vewNXtSGJkdW",
        "colab": {
          "base_uri": "https://localhost:8080/"
        },
        "outputId": "1ba9f487-7a41-4d74-ca60-af5a536301bf"
      },
      "execution_count": null,
      "outputs": [
        {
          "output_type": "stream",
          "name": "stdout",
          "text": [
            "<class 'pandas.core.frame.DataFrame'>\n",
            "RangeIndex: 308854 entries, 0 to 308853\n",
            "Data columns (total 19 columns):\n",
            " #   Column                        Non-Null Count   Dtype  \n",
            "---  ------                        --------------   -----  \n",
            " 0   General_Health                308854 non-null  int64  \n",
            " 1   Checkup                       308854 non-null  int64  \n",
            " 2   Exercise                      308854 non-null  int64  \n",
            " 3   Heart_Disease                 308854 non-null  int64  \n",
            " 4   Skin_Cancer                   308854 non-null  int64  \n",
            " 5   Other_Cancer                  308854 non-null  int64  \n",
            " 6   Depression                    308854 non-null  int64  \n",
            " 7   Diabetes                      308854 non-null  int64  \n",
            " 8   Arthritis                     308854 non-null  int64  \n",
            " 9   Sex                           308854 non-null  int64  \n",
            " 10  Age_Category                  308854 non-null  int64  \n",
            " 11  Height_(cm)                   308854 non-null  float64\n",
            " 12  Weight_(kg)                   308854 non-null  float64\n",
            " 13  BMI                           308854 non-null  float64\n",
            " 14  Smoking_History               308854 non-null  int64  \n",
            " 15  Alcohol_Consumption           308854 non-null  float64\n",
            " 16  Fruit_Consumption             308854 non-null  float64\n",
            " 17  Green_Vegetables_Consumption  308854 non-null  float64\n",
            " 18  FriedPotato_Consumption       308854 non-null  float64\n",
            "dtypes: float64(7), int64(12)\n",
            "memory usage: 44.8 MB\n"
          ]
        }
      ]
    },
    {
      "cell_type": "markdown",
      "source": [
        "## Finding the Highly Co-related columns"
      ],
      "metadata": {
        "id": "t735rmQ66KGp"
      }
    },
    {
      "cell_type": "code",
      "source": [
        "co_mat = df.corr()['Heart_Disease']\n",
        "co_mat"
      ],
      "metadata": {
        "id": "HRnp7phCKIxF",
        "colab": {
          "base_uri": "https://localhost:8080/"
        },
        "outputId": "b93a63a2-a571-4993-9071-ecddf0bc0eb8"
      },
      "execution_count": null,
      "outputs": [
        {
          "output_type": "execute_result",
          "data": {
            "text/plain": [
              "General_Health                 -0.020645\n",
              "Checkup                         0.083480\n",
              "Exercise                       -0.096347\n",
              "Heart_Disease                   1.000000\n",
              "Skin_Cancer                     0.090848\n",
              "Other_Cancer                    0.092387\n",
              "Depression                      0.032526\n",
              "Diabetes                        0.166241\n",
              "Arthritis                       0.153913\n",
              "Sex                             0.072595\n",
              "Age_Category                    0.229011\n",
              "Height_(cm)                     0.015780\n",
              "Weight_(kg)                     0.045875\n",
              "BMI                             0.042666\n",
              "Smoking_History                 0.107797\n",
              "Alcohol_Consumption            -0.036569\n",
              "Fruit_Consumption              -0.020055\n",
              "Green_Vegetables_Consumption   -0.024043\n",
              "FriedPotato_Consumption        -0.009227\n",
              "Name: Heart_Disease, dtype: float64"
            ]
          },
          "metadata": {},
          "execution_count": 78
        }
      ]
    },
    {
      "cell_type": "markdown",
      "source": [
        "## SPlitting the Train & Test Data"
      ],
      "metadata": {
        "id": "gW7glOvy6aho"
      }
    },
    {
      "cell_type": "code",
      "source": [
        "x = df.drop('Heart_Disease', axis=1)\n",
        "y = df['Heart_Disease']"
      ],
      "metadata": {
        "id": "rI9ehyjYM9L_"
      },
      "execution_count": null,
      "outputs": []
    },
    {
      "cell_type": "code",
      "source": [
        "from sklearn.model_selection import train_test_split\n",
        "xtrain, xtest, ytrain, ytest = train_test_split(x, y, test_size=0.25, random_state=42)"
      ],
      "metadata": {
        "id": "Gxob4i04PQ8D"
      },
      "execution_count": null,
      "outputs": []
    },
    {
      "cell_type": "code",
      "source": [
        "len(xtrain), len(xtest), len(ytrain), len(ytest)"
      ],
      "metadata": {
        "id": "PIB-J34XQYrI",
        "colab": {
          "base_uri": "https://localhost:8080/"
        },
        "outputId": "a3671710-79fc-457c-80d9-5bd07bbab29d"
      },
      "execution_count": null,
      "outputs": [
        {
          "output_type": "execute_result",
          "data": {
            "text/plain": [
              "(231640, 77214, 231640, 77214)"
            ]
          },
          "metadata": {},
          "execution_count": 81
        }
      ]
    },
    {
      "cell_type": "markdown",
      "source": [
        "# SVC"
      ],
      "metadata": {
        "id": "uxEm8IK36ybx"
      }
    },
    {
      "cell_type": "code",
      "source": [
        "# svm_classifier = SVC(kernel='linear', random_state=42)\n",
        "\n",
        "# svm_classifier.fit(xtrain, ytrain)"
      ],
      "metadata": {
        "id": "368AUv_pqouk"
      },
      "execution_count": null,
      "outputs": []
    },
    {
      "cell_type": "code",
      "source": [
        "# ypred = svm_classifier.predict(xtest)\n",
        "# acc = accuracy_score(ytest, ypred)\n",
        "# acc"
      ],
      "metadata": {
        "id": "IWztwrVqq4bz"
      },
      "execution_count": null,
      "outputs": []
    },
    {
      "cell_type": "code",
      "source": [],
      "metadata": {
        "id": "rXAqL4xVrL3K"
      },
      "execution_count": null,
      "outputs": []
    },
    {
      "cell_type": "markdown",
      "source": [
        "## ANN"
      ],
      "metadata": {
        "id": "698GlgMF7Atv"
      }
    },
    {
      "cell_type": "code",
      "source": [
        "early_stopping = callbacks.EarlyStopping(\n",
        "    min_delta=0.001, # minimium amount of change to count as an improvement\n",
        "    patience=5, # how many epochs to wait before stopping\n",
        "    restore_best_weights=True)\n",
        "\n",
        "# Initialising the ANN\n",
        "model = Sequential()\n",
        "\n",
        "# layers\n",
        "model.add(Dense(units = 128, kernel_initializer = 'uniform', activation = 'relu', input_dim = 18))\n",
        "model.add(Dense(units = 64, kernel_initializer = 'uniform', activation = 'relu'))\n",
        "model.add(Dense(units = 32, kernel_initializer = 'uniform', activation = 'relu'))\n",
        "model.add(Dropout(0.3))\n",
        "model.add(Dense(units = 16, kernel_initializer = 'uniform', activation = 'relu'))\n",
        "model.add(Dropout(0.2))\n",
        "model.add(Dense(units = 8, kernel_initializer = 'uniform', activation = 'relu'))\n",
        "model.add(Dense(units = 4, kernel_initializer = 'uniform', activation = 'relu'))\n",
        "model.add(Dense(units = 1, kernel_initializer = 'uniform', activation = 'sigmoid'))\n",
        "\n",
        "# Compiling the ANN\n",
        "model.compile(optimizer = 'adam', loss = 'binary_crossentropy', metrics = ['accuracy'])\n",
        "\n",
        "# Train the ANN\n",
        "history = model.fit(xtrain, ytrain, batch_size = 25, epochs = 80, callbacks=[early_stopping], validation_split=0.25)"
      ],
      "metadata": {
        "colab": {
          "base_uri": "https://localhost:8080/"
        },
        "id": "y4108m1muT5E",
        "outputId": "37c9b57b-682b-4efa-d53f-ee5f3d04f684"
      },
      "execution_count": null,
      "outputs": [
        {
          "output_type": "stream",
          "name": "stdout",
          "text": [
            "Epoch 1/80\n",
            "6950/6950 [==============================] - 28s 4ms/step - loss: 0.2518 - accuracy: 0.9192 - val_loss: 0.2533 - val_accuracy: 0.9193\n",
            "Epoch 2/80\n",
            "6950/6950 [==============================] - 31s 4ms/step - loss: 0.2373 - accuracy: 0.9193 - val_loss: 0.2371 - val_accuracy: 0.9193\n",
            "Epoch 3/80\n",
            "6950/6950 [==============================] - 28s 4ms/step - loss: 0.2367 - accuracy: 0.9193 - val_loss: 0.2550 - val_accuracy: 0.9193\n",
            "Epoch 4/80\n",
            "6950/6950 [==============================] - 28s 4ms/step - loss: 0.2359 - accuracy: 0.9193 - val_loss: 0.2375 - val_accuracy: 0.9193\n",
            "Epoch 5/80\n",
            "6950/6950 [==============================] - 25s 4ms/step - loss: 0.2349 - accuracy: 0.9193 - val_loss: 0.2378 - val_accuracy: 0.9193\n",
            "Epoch 6/80\n",
            "6950/6950 [==============================] - 27s 4ms/step - loss: 0.2351 - accuracy: 0.9193 - val_loss: 0.2368 - val_accuracy: 0.9193\n",
            "Epoch 7/80\n",
            "6950/6950 [==============================] - 28s 4ms/step - loss: 0.2345 - accuracy: 0.9193 - val_loss: 0.2344 - val_accuracy: 0.9193\n",
            "Epoch 8/80\n",
            "6950/6950 [==============================] - 26s 4ms/step - loss: 0.2342 - accuracy: 0.9193 - val_loss: 0.2414 - val_accuracy: 0.9193\n",
            "Epoch 9/80\n",
            "6950/6950 [==============================] - 27s 4ms/step - loss: 0.2340 - accuracy: 0.9193 - val_loss: 0.2337 - val_accuracy: 0.9193\n",
            "Epoch 10/80\n",
            "6950/6950 [==============================] - 24s 4ms/step - loss: 0.2336 - accuracy: 0.9193 - val_loss: 0.2344 - val_accuracy: 0.9193\n",
            "Epoch 11/80\n",
            "6950/6950 [==============================] - 27s 4ms/step - loss: 0.2333 - accuracy: 0.9193 - val_loss: 0.2377 - val_accuracy: 0.9193\n",
            "Epoch 12/80\n",
            "6950/6950 [==============================] - 27s 4ms/step - loss: 0.2331 - accuracy: 0.9193 - val_loss: 0.2354 - val_accuracy: 0.9193\n"
          ]
        }
      ]
    },
    {
      "cell_type": "code",
      "source": [],
      "metadata": {
        "id": "tqoUGT6UzCp3"
      },
      "execution_count": null,
      "outputs": []
    },
    {
      "cell_type": "markdown",
      "source": [
        "## Result"
      ],
      "metadata": {
        "id": "IpRoTDgyV9qy"
      }
    },
    {
      "cell_type": "code",
      "source": [
        "# Predict on training and test sets\n",
        "train_preds = model.predict(xtrain)\n",
        "train_pred = (train_preds > 0.5).astype(int)\n",
        "test_preds = model.predict(xtest)\n",
        "test_pred = (test_preds > 0.5).astype(int)\n",
        "\n",
        "# Calculate the accuracy scores\n",
        "train_accuracy = accuracy_score(ytrain, train_pred)\n",
        "test_accuracy = accuracy_score(ytest, test_pred)\n",
        "\n",
        "train_accuracy, test_accuracy"
      ],
      "metadata": {
        "colab": {
          "base_uri": "https://localhost:8080/"
        },
        "id": "LSo3N8tPw7wv",
        "outputId": "df996a79-15f8-476a-eb10-008777a60895"
      },
      "execution_count": null,
      "outputs": [
        {
          "output_type": "stream",
          "name": "stdout",
          "text": [
            "7239/7239 [==============================] - 13s 2ms/step\n",
            "2413/2413 [==============================] - 5s 2ms/step\n"
          ]
        },
        {
          "output_type": "execute_result",
          "data": {
            "text/plain": [
              "(0.9193274045933345, 0.9186157950630714)"
            ]
          },
          "metadata": {},
          "execution_count": 89
        }
      ]
    },
    {
      "cell_type": "code",
      "source": [
        "from sklearn.metrics import classification_report, confusion_matrix\n",
        "\n",
        "# Generate classification report\n",
        "classification_rep = classification_report(ytest, test_pred)\n",
        "\n",
        "# Generate confusion matrix\n",
        "confusion_mat = confusion_matrix(ytest, test_pred)\n",
        "\n",
        "\n",
        "print(classification_rep)\n",
        "print(\"\\nConfusion Matrix : \\n\", confusion_mat)\n"
      ],
      "metadata": {
        "colab": {
          "base_uri": "https://localhost:8080/"
        },
        "id": "iiSnJ58TSH2J",
        "outputId": "458b755b-eb20-421a-f6ff-ec4b01e6ad28"
      },
      "execution_count": null,
      "outputs": [
        {
          "output_type": "stream",
          "name": "stdout",
          "text": [
            "              precision    recall  f1-score   support\n",
            "\n",
            "           0       0.92      1.00      0.96     70930\n",
            "           1       0.00      0.00      0.00      6284\n",
            "\n",
            "    accuracy                           0.92     77214\n",
            "   macro avg       0.46      0.50      0.48     77214\n",
            "weighted avg       0.84      0.92      0.88     77214\n",
            "\n",
            "\n",
            "Confusion Matrix : \n",
            " [[70930     0]\n",
            " [ 6284     0]]\n"
          ]
        },
        {
          "output_type": "stream",
          "name": "stderr",
          "text": [
            "/usr/local/lib/python3.10/dist-packages/sklearn/metrics/_classification.py:1344: UndefinedMetricWarning: Precision and F-score are ill-defined and being set to 0.0 in labels with no predicted samples. Use `zero_division` parameter to control this behavior.\n",
            "  _warn_prf(average, modifier, msg_start, len(result))\n",
            "/usr/local/lib/python3.10/dist-packages/sklearn/metrics/_classification.py:1344: UndefinedMetricWarning: Precision and F-score are ill-defined and being set to 0.0 in labels with no predicted samples. Use `zero_division` parameter to control this behavior.\n",
            "  _warn_prf(average, modifier, msg_start, len(result))\n",
            "/usr/local/lib/python3.10/dist-packages/sklearn/metrics/_classification.py:1344: UndefinedMetricWarning: Precision and F-score are ill-defined and being set to 0.0 in labels with no predicted samples. Use `zero_division` parameter to control this behavior.\n",
            "  _warn_prf(average, modifier, msg_start, len(result))\n"
          ]
        }
      ]
    },
    {
      "cell_type": "code",
      "source": [],
      "metadata": {
        "id": "bPjr0XuzVaCg"
      },
      "execution_count": null,
      "outputs": []
    }
  ],
  "metadata": {
    "colab": {
      "provenance": []
    },
    "kernelspec": {
      "display_name": "Python 3",
      "name": "python3"
    },
    "language_info": {
      "name": "python"
    },
    "accelerator": "TPU"
  },
  "nbformat": 4,
  "nbformat_minor": 0
}